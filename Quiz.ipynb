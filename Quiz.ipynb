{
  "nbformat": 4,
  "nbformat_minor": 0,
  "metadata": {
    "colab": {
      "provenance": []
    },
    "kernelspec": {
      "name": "python3",
      "display_name": "Python 3"
    },
    "language_info": {
      "name": "python"
    }
  },
  "cells": [
    {
      "cell_type": "code",
      "execution_count": null,
      "metadata": {
        "colab": {
          "base_uri": "https://localhost:8080/"
        },
        "id": "5jD71CGc_f3-",
        "outputId": "932f6ef8-8f7a-4682-ce68-cfd2b98a9559"
      },
      "outputs": [
        {
          "output_type": "stream",
          "name": "stdout",
          "text": [
            "Matrix awal:\n",
            "[[34, 100, 12], [72, 24, 55], [61, 20, 19]]\n",
            "Element terbesar: 100\n",
            "Element terkecil: 12\n",
            "Hasil transpose matrix:\n",
            "[[34, 72, 61], [100, 24, 20], [12, 55, 19]]\n",
            "Hasil perkalian matrix dengan transpose:\n",
            "[[11300, 5508, 4302], [5508, 8785, 5917], [4302, 5917, 4482]]\n",
            "Hasil penjumlahan matrix dengan transpose:\n",
            "[[68, 172, 73], [172, 48, 75], [73, 75, 38]]\n"
          ]
        }
      ],
      "source": [
        "class Matrix:\n",
        "    def __init__(self, matrix):\n",
        "        self.matrix = matrix\n",
        "\n",
        "    def get_max(self):\n",
        "        return max(max(row) for row in self.matrix)\n",
        "\n",
        "    def get_min(self):\n",
        "        return min(min(row) for row in self.matrix)\n",
        "\n",
        "    def transpose(self):\n",
        "        transpose_matrix = [[self.matrix[j][i] for j in range(len(self.matrix))] for i in range(len(self.matrix[0]))]\n",
        "        return transpose_matrix\n",
        "\n",
        "    def multiply(self, transpose_matrix):\n",
        "        result_matrix = [[sum(a*b for a,b in zip(row, col)) for col in zip(*transpose_matrix)] for row in self.matrix]\n",
        "        return result_matrix\n",
        "\n",
        "    def add(self, transpose_matrix):\n",
        "        result_matrix = [[a+b for a,b in zip(row, col)] for row,col in zip(self.matrix, transpose_matrix)]\n",
        "        return result_matrix\n",
        "\n",
        "if __name__ == \"__main__\":\n",
        "    matrix = [[34, 100, 12],\n",
        "              [72, 24, 55],\n",
        "              [61, 20, 19]]\n",
        "\n",
        "    m = Matrix(matrix)\n",
        "    print(\"Matrix awal:\")\n",
        "    print(matrix)\n",
        "    print(\"Element terbesar:\", m.get_max())\n",
        "    print(\"Element terkecil:\", m.get_min())\n",
        "\n",
        "    transpose_matrix = m.transpose()\n",
        "    print(\"Hasil transpose matrix:\")\n",
        "    print(transpose_matrix)\n",
        "\n",
        "    result_matrix = m.multiply(transpose_matrix)\n",
        "    print(\"Hasil perkalian matrix dengan transpose:\")\n",
        "    print(result_matrix)\n",
        "\n",
        "    result_matrix = m.add(transpose_matrix)\n",
        "    print(\"Hasil penjumlahan matrix dengan transpose:\")\n",
        "    print(result_matrix)"
      ]
    }
  ]
}